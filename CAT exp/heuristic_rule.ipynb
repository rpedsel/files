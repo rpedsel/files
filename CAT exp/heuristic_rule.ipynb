{
 "cells": [
  {
   "cell_type": "code",
   "execution_count": 1,
   "metadata": {
    "collapsed": true
   },
   "outputs": [],
   "source": [
    "import pandas as pd\n",
    "import numpy as np\n",
    "from __future__ import print_function\n",
    "from sklearn import preprocessing\n",
    "from sklearn.metrics import f1_score\n",
    "from sklearn.model_selection import cross_validate\n",
    "\n",
    "from sklearn.model_selection import GridSearchCV\n",
    "from sklearn.model_selection import train_test_split\n",
    "from sklearn.ensemble import RandomForestClassifier\n",
    "from sklearn.metrics import confusion_matrix\n",
    "from sklearn.metrics import precision_recall_fscore_support\n",
    "from sklearn.metrics import classification_report\n",
    "from sklearn.metrics import precision_score\n",
    "from sklearn.tree import export_graphviz"
   ]
  },
  {
   "cell_type": "code",
   "execution_count": 2,
   "metadata": {},
   "outputs": [
    {
     "data": {
      "text/plain": [
       "False    315\n",
       "True      71\n",
       "Name: type, dtype: int64"
      ]
     },
     "execution_count": 2,
     "metadata": {},
     "output_type": "execute_result"
    }
   ],
   "source": [
    "# columns collected from 14 datasets (D3M seeds, UCI)\n",
    "original = pd.read_csv(\"manually_labeled_dataset.csv\")\n",
    "\n",
    "# columns collected from 8 datasets (openML, labels from ARFF)\n",
    "external = pd.read_csv(\"testset.csv\")\n",
    "\n",
    "# concat the two datasets\n",
    "data = pd.concat([original, external],ignore_index=True)\n",
    "\n",
    "# get rid of the case where ID be marked as categorical\n",
    "data = data[data['col_name']!='RIVER']\n",
    "# get rid of binary\n",
    "data = data[(data.type != 'binary') & (data.type != 'empty')]\n",
    "# make type other than categorical -> 'not categorical'\n",
    "data.loc[data['type'] != 'categorical', 'type'] = False\n",
    "data.loc[data['type'] == 'categorical', 'type'] = True\n",
    "data['type'] = data['type'].astype(bool)\n",
    "# dtype to int\n",
    "data.loc[data['dtype'] == 'int64' , 'dtype'] = 0\n",
    "data.loc[data['dtype'] == 'float64' , 'dtype'] = 1\n",
    "data.loc[data['dtype'] == 'object' , 'dtype'] = 2\n",
    "# 95%in10 to int\n",
    "data['95%in10'] = data['95%in10'].astype(int) \n",
    "\n",
    "data.type.value_counts()"
   ]
  },
  {
   "cell_type": "code",
   "execution_count": 3,
   "metadata": {
    "collapsed": true
   },
   "outputs": [],
   "source": [
    "data.loc[data['col_name']=='river', 'type'] = False\n",
    "data.loc[data['col_name']=='IDENTIF', 'type'] = False"
   ]
  },
  {
   "cell_type": "code",
   "execution_count": 33,
   "metadata": {
    "collapsed": true,
    "scrolled": true
   },
   "outputs": [],
   "source": [
    "# rules\n",
    "def cmp(dtype,nunique,nunique_ratio,dropMax,H,M):\n",
    "    if dtype == 1:\n",
    "        return False\n",
    "    elif dtype == 2:\n",
    "        if nunique < 50 and nunique_ratio < 0.7:\n",
    "            return True\n",
    "        else:\n",
    "            return False\n",
    "    else:\n",
    "        if nunique > 16:\n",
    "            return False\n",
    "        else:\n",
    "            if dropMax<= 0.05:\n",
    "                return True\n",
    "            else:\n",
    "                if H+M < 1:\n",
    "                    return True\n",
    "                else:\n",
    "                    if nunique <= 10:\n",
    "                        return True\n",
    "                    return False"
   ]
  },
  {
   "cell_type": "code",
   "execution_count": 6,
   "metadata": {
    "collapsed": true,
    "scrolled": true
   },
   "outputs": [],
   "source": [
    "data['pred'] = data.apply(lambda x: cmp(x['dtype'], x['nunique'],x['nunique_ratio'],x['dropMax'],x['H'],x['M']), axis=1)"
   ]
  },
  {
   "cell_type": "code",
   "execution_count": 7,
   "metadata": {
    "scrolled": true
   },
   "outputs": [
    {
     "data": {
      "text/html": [
       "<div>\n",
       "<style>\n",
       "    .dataframe thead tr:only-child th {\n",
       "        text-align: right;\n",
       "    }\n",
       "\n",
       "    .dataframe thead th {\n",
       "        text-align: left;\n",
       "    }\n",
       "\n",
       "    .dataframe tbody tr th {\n",
       "        vertical-align: top;\n",
       "    }\n",
       "</style>\n",
       "<table border=\"1\" class=\"dataframe\">\n",
       "  <thead>\n",
       "    <tr style=\"text-align: right;\">\n",
       "      <th></th>\n",
       "      <th>col_name</th>\n",
       "      <th>nunique</th>\n",
       "      <th>nunique_ratio</th>\n",
       "      <th>H</th>\n",
       "      <th>M</th>\n",
       "      <th>L</th>\n",
       "      <th>ratio_H</th>\n",
       "      <th>ratio_M</th>\n",
       "      <th>ratio_L</th>\n",
       "      <th>dropMean</th>\n",
       "      <th>dropMedian</th>\n",
       "      <th>dropMax</th>\n",
       "      <th>dropMin</th>\n",
       "      <th>dtype</th>\n",
       "      <th>95%in10</th>\n",
       "      <th>type</th>\n",
       "      <th>pred</th>\n",
       "    </tr>\n",
       "  </thead>\n",
       "  <tbody>\n",
       "    <tr>\n",
       "      <th>432</th>\n",
       "      <td>diffSaTime2</td>\n",
       "      <td>3</td>\n",
       "      <td>0.000181</td>\n",
       "      <td>0</td>\n",
       "      <td>1</td>\n",
       "      <td>17</td>\n",
       "      <td>0.0</td>\n",
       "      <td>0.0556</td>\n",
       "      <td>0.9444</td>\n",
       "      <td>0.0090</td>\n",
       "      <td>0.0132</td>\n",
       "      <td>0.0178</td>\n",
       "      <td>0.0</td>\n",
       "      <td>1</td>\n",
       "      <td>1</td>\n",
       "      <td>False</td>\n",
       "      <td>False</td>\n",
       "    </tr>\n",
       "    <tr>\n",
       "      <th>434</th>\n",
       "      <td>diffSaTime4</td>\n",
       "      <td>3</td>\n",
       "      <td>0.000181</td>\n",
       "      <td>0</td>\n",
       "      <td>1</td>\n",
       "      <td>17</td>\n",
       "      <td>0.0</td>\n",
       "      <td>0.0556</td>\n",
       "      <td>0.9444</td>\n",
       "      <td>0.0072</td>\n",
       "      <td>0.0036</td>\n",
       "      <td>0.0154</td>\n",
       "      <td>0.0</td>\n",
       "      <td>1</td>\n",
       "      <td>1</td>\n",
       "      <td>False</td>\n",
       "      <td>False</td>\n",
       "    </tr>\n",
       "  </tbody>\n",
       "</table>\n",
       "</div>"
      ],
      "text/plain": [
       "        col_name  nunique  nunique_ratio  H  M   L  ratio_H  ratio_M  ratio_L  \\\n",
       "432  diffSaTime2        3       0.000181  0  1  17      0.0   0.0556   0.9444   \n",
       "434  diffSaTime4        3       0.000181  0  1  17      0.0   0.0556   0.9444   \n",
       "\n",
       "     dropMean  dropMedian  dropMax  dropMin dtype  95%in10   type   pred  \n",
       "432    0.0090      0.0132   0.0178      0.0     1        1  False  False  \n",
       "434    0.0072      0.0036   0.0154      0.0     1        1  False  False  "
      ]
     },
     "execution_count": 7,
     "metadata": {},
     "output_type": "execute_result"
    }
   ],
   "source": [
    "a = data[data['pred']==False]\n",
    "b = a[a['nunique']<=10]\n",
    "b[b['type']==False]"
   ]
  },
  {
   "cell_type": "code",
   "execution_count": 8,
   "metadata": {},
   "outputs": [
    {
     "name": "stdout",
     "output_type": "stream",
     "text": [
      "f1 0.91156462585\n",
      "precision 0.858974358974\n"
     ]
    }
   ],
   "source": [
    "print('f1', f1_score(data['type'].astype(bool), data['pred']))\n",
    "print('precision', precision_score(data['type'], data['pred'], average='binary'))"
   ]
  },
  {
   "cell_type": "code",
   "execution_count": 9,
   "metadata": {},
   "outputs": [
    {
     "name": "stdout",
     "output_type": "stream",
     "text": [
      "(306, 11, 2, 67)\n"
     ]
    }
   ],
   "source": [
    "tn, fp, fn, tp = confusion_matrix(data['type'], data['pred']).ravel()\n",
    "print((tn, fp, fn, tp))"
   ]
  },
  {
   "cell_type": "code",
   "execution_count": 10,
   "metadata": {},
   "outputs": [
    {
     "data": {
      "text/plain": [
       "array([[306,  11],\n",
       "       [  2,  67]])"
      ]
     },
     "execution_count": 10,
     "metadata": {},
     "output_type": "execute_result"
    }
   ],
   "source": [
    "confusion_matrix(data['type'],data['pred'])"
   ]
  },
  {
   "cell_type": "code",
   "execution_count": 26,
   "metadata": {
    "scrolled": true
   },
   "outputs": [
    {
     "data": {
      "text/plain": [
       "False    103\n",
       "True      48\n",
       "Name: type, dtype: int64"
      ]
     },
     "execution_count": 26,
     "metadata": {},
     "output_type": "execute_result"
    }
   ],
   "source": [
    "test = pd.read_csv('/home/rpedsel/Documents/ISI II/datasets/CAT exp/newtestset.csv')\n",
    "test = test[(test.type != 'binary') & (test.type != 'empty')]\n",
    "# make type other than categorical -> 'not categorical'\n",
    "test.loc[test['type'] != 'categorical', 'type'] = False\n",
    "test.loc[test['type'] == 'categorical', 'type'] = True\n",
    "test['type'] =test['type'].astype(bool)\n",
    "# dtype to int\n",
    "test.loc[test['dtype'] == 'int64' , 'dtype'] = 0\n",
    "test.loc[test['dtype'] == 'float64' , 'dtype'] = 1\n",
    "test.loc[test['dtype'] == 'object' , 'dtype'] = 2\n",
    "# 95%in10 to int\n",
    "test['95%in10'] = test['95%in10'].astype(int) \n",
    "\n",
    "test.type.value_counts()"
   ]
  },
  {
   "cell_type": "code",
   "execution_count": 37,
   "metadata": {
    "collapsed": true
   },
   "outputs": [],
   "source": [
    "test['pred'] = True\n",
    "test['pred'] = test.apply(lambda x: cmp(x['dtype'], x['nunique'],x['nunique_ratio'],x['dropMax'],x['H'],x['M']), axis=1)"
   ]
  },
  {
   "cell_type": "code",
   "execution_count": 38,
   "metadata": {
    "scrolled": true
   },
   "outputs": [
    {
     "name": "stdout",
     "output_type": "stream",
     "text": [
      "f1 0.897959183673\n",
      "precision 0.88\n"
     ]
    }
   ],
   "source": [
    "print('f1', f1_score(test['type'].astype(bool), test['pred']))\n",
    "print('precision', precision_score(test['type'], test['pred'], average='binary'))"
   ]
  },
  {
   "cell_type": "code",
   "execution_count": null,
   "metadata": {
    "scrolled": true
   },
   "outputs": [],
   "source": []
  }
 ],
 "metadata": {
  "kernelspec": {
   "display_name": "Python 2",
   "language": "python",
   "name": "python2"
  },
  "language_info": {
   "codemirror_mode": {
    "name": "ipython",
    "version": 2
   },
   "file_extension": ".py",
   "mimetype": "text/x-python",
   "name": "python",
   "nbconvert_exporter": "python",
   "pygments_lexer": "ipython2",
   "version": "2.7.13"
  }
 },
 "nbformat": 4,
 "nbformat_minor": 2
}
